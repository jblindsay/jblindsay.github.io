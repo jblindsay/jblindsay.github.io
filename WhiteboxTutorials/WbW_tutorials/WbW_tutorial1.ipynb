{
 "cells": [
  {
   "cell_type": "markdown",
   "id": "1e447fdc-1d37-46ba-8681-558c1af03b47",
   "metadata": {},
   "source": [
    "# Whitebox Workflows for Python (WbW) Tutorial 1: Hydrological Analysis"
   ]
  },
  {
   "cell_type": "markdown",
   "id": "84b6b45b-ca8d-429f-a7c6-f49cbc5874ab",
   "metadata": {},
   "source": [
    "## Introduction"
   ]
  },
  {
   "cell_type": "markdown",
   "id": "09e5b554-3f05-496c-acc4-0ddaa0f70c65",
   "metadata": {},
   "source": [
    "This tutorial is part of a series that includes:\n",
    "\n",
    "- [Tutorial 1: Hydrological Analysis](https://jblindsay.github.io/WhiteboxTutorials/WbW_tutorials/WbW_tutorial1.ipynb)\n",
    "- [Tutorial 2: Geomorphometric Analysis](https://jblindsay.github.io/WhiteboxTutorials/WbW_tutorials/WbW_tutorial2.ipynb)\n",
    "- [Tutorial 3: Mapping Building Footprints from LiDAR](https://jblindsay.github.io/WhiteboxTutorials/WbW_tutorials/WbW_tutorial3.ipynb)\n",
    "- [Tutorial 4: Data visualization with Whitebox Workflows and matplotlib](https://jblindsay.github.io/WhiteboxTutorials/WbW_tutorials/WbW_visualization.ipynb)\n",
    "\n",
    "This tutorial is intended to demonstrate how to use the WbW geospatial analysis library to perform basic hydrological analysis. It will not cover all of the functionality related to hydrology contained within WbW. For more information, you may refer to the [user manual](https://www.whiteboxgeo.com/manual/wbw-user-manual/book/preface.html). **You may download a copy of the raw [Jupyter Notebooks](https://jupyter.org/) file (`*.ipynb`) [from here](https://github.com/jblindsay/jblindsay.github.io/blob/master/WhiteboxTutorials/WbW_tutorials/WbW_tutorial1.ipynb).**"
   ]
  },
  {
   "cell_type": "markdown",
   "id": "8b93ac11-2619-43b0-b990-4ef44afa88f8",
   "metadata": {},
   "source": [
    "## Setting up WbW"
   ]
  },
  {
   "cell_type": "markdown",
   "id": "e6a81277-a66f-40e2-b3aa-9415f229be57",
   "metadata": {},
   "source": [
    "If you don't already have WbW installed on your machine, do so now."
   ]
  },
  {
   "cell_type": "code",
   "execution_count": null,
   "id": "3b12b3c8-cf10-4da6-a16f-fe083afe9300",
   "metadata": {},
   "outputs": [],
   "source": [
    "pip install whitebox-workflows"
   ]
  },
  {
   "cell_type": "markdown",
   "id": "5a443fa8-80d5-4083-b481-ce5aecb1b574",
   "metadata": {},
   "source": [
    "Or if you have it installed already but need to update to the latest version, you may do so with:"
   ]
  },
  {
   "cell_type": "code",
   "execution_count": null,
   "id": "98eb3a91-853f-425b-bcb1-bfa397ffb245",
   "metadata": {},
   "outputs": [],
   "source": [
    "pip install whitebox-workflows -U"
   ]
  },
  {
   "cell_type": "markdown",
   "id": "581a4b3a-fa22-443d-8f7c-eb6d17c7c0f0",
   "metadata": {},
   "source": [
    "Each WbW script must begin by importing the `WbEnvrionment` class from the `whitebox_workflows` library and setting up a `WbEnvironment` object."
   ]
  },
  {
   "cell_type": "code",
   "execution_count": null,
   "id": "aae35a50-b44f-49ef-a5ab-69ba8d65eca9",
   "metadata": {},
   "outputs": [],
   "source": [
    "from whitebox_workflows import WbEnvironment, download_sample_data\n",
    "\n",
    "wbe = WbEnvironment()\n",
    "print(wbe.version()) # Print the version number"
   ]
  },
  {
   "cell_type": "markdown",
   "id": "e5609b54-c5e1-4633-8052-f3d23eb44baf",
   "metadata": {},
   "source": [
    "While in this script, all we are doing is printing the versioning information for Whitebox, the `WbEnvironment` contains all of the functions related to geospatial analysis, as well as the functions for reading and writing data. Later we'll explore some of this more advanced functionality."
   ]
  },
  {
   "cell_type": "markdown",
   "id": "3108ba0b-1ee6-4455-811e-9ff61622bc38",
   "metadata": {},
   "source": [
    "## Creating a DEM from a lidar point cloud"
   ]
  },
  {
   "cell_type": "markdown",
   "id": "585b8aaa-c491-4f8e-a0e1-ea6fbd236023",
   "metadata": {},
   "source": [
    "Let's create a new script to download some sample data. Here we'll grab the 'mill_brook' lidar dataset. The script below will download the data for us, assign the directory to which these data are downloaded to the `WbEnvironment` working directory and lastly print this location so we can know where the data are being stored. Notice that it may take a few minutes to download the data. In the event that the download takes more than a few minutes, the connection may timeout and you will receive an error. If this should happen, you may download the dataset directly [from here](http://www.whiteboxgeo.com/sample_data/mill_brook.zip) but you will need to update the `wbe.working_directory` to your download folder. Also note that we are setting the `wbe.verbose` variable to `True`, which will allow the various `wbe` functions to output to the terminal. That way we can receive updates as things are happening."
   ]
  },
  {
   "cell_type": "code",
   "execution_count": null,
   "id": "d4adab3c-96ca-481d-b9e2-513bd97a33a5",
   "metadata": {},
   "outputs": [],
   "source": [
    "wbe.verbose = True\n",
    "wbe.working_directory = download_sample_data('mill_brook')\n",
    "print(f'Data have been stored in: {wbe.working_directory}')"
   ]
  },
  {
   "cell_type": "markdown",
   "id": "df8e2a71-1b76-4d4b-828b-62072e8ebc1b",
   "metadata": {},
   "source": [
    "Let's read in the lidar (LAZ) file contained in that download directory."
   ]
  },
  {
   "cell_type": "code",
   "execution_count": null,
   "id": "1f357e1a-874b-4697-b56f-24ef7f719e9a",
   "metadata": {},
   "outputs": [],
   "source": [
    "lidar = wbe.read_lidar('mill_brook.laz')\n",
    "print(f\"There are {lidar.header.number_of_points} points in the lidar dataset.\")"
   ]
  },
  {
   "cell_type": "markdown",
   "id": "00b4d16b-b982-4ae0-b499-dad83cf657cf",
   "metadata": {},
   "source": [
    "We can interpolate this lidar data to a raster DEM using several interpolation methods, but here, we'll triangulate it."
   ]
  },
  {
   "cell_type": "code",
   "execution_count": null,
   "id": "db6c2557-c8e4-4e95-8764-62b5657a6377",
   "metadata": {
    "scrolled": true
   },
   "outputs": [],
   "source": [
    "# Create a DEM\n",
    "dem = wbe.lidar_tin_gridding(lidar, returns_included='all', cell_size=1.0, excluded_classes=[1], max_triangle_edge_length=100.0)\n",
    "\n",
    "# Fill missing data\n",
    "dem = wbe.fill_missing_data(dem, filter_size=35) # Notice that we overwrite `dem` here.\n",
    "# You can save the smoothed DEM if you like.\n",
    "# wbe.write_raster(dem, 'dem.tif', compress=False) \n",
    "\n",
    "# Let's visualize the DEM with a hillshade\n",
    "hs = wbe.multidirectional_hillshade(dem)\n",
    "wbe.write_raster(hs, 'hillshade.tif', compress=False) # Compression is good, but it is a bit slower so here we won't use it."
   ]
  },
  {
   "cell_type": "markdown",
   "id": "f77d90de-24ee-4cb9-8b71-5c8797ce9029",
   "metadata": {},
   "source": [
    "Go ahead and open the `hillshade.tif` file in QGIS and see what these data look like. When you're done, come on back and carry on with the analysis below."
   ]
  },
  {
   "cell_type": "code",
   "execution_count": null,
   "id": "efa2c948-0507-411e-bc63-885971100ace",
   "metadata": {
    "scrolled": true
   },
   "outputs": [],
   "source": [
    "# Smooth the DEM. This step normally takes some experimentation to get the parameters right, which is why\n",
    "# why I save the raw DEM/hillshade. Comparison on the hillshade images allows me to tweak the parameters\n",
    "# until I find that the output DEM has the appropriate level of smoothing that I need for my application.\n",
    "dem_smoothed = wbe.feature_preserving_smoothing(dem, filter_size=11, normal_diff_threshold=25.0, iterations=3)\n",
    "# You can save the smoothed DEM if you like...\n",
    "# wbe.write_raster(dem_smoothed, 'dem_smoothed.tif', compress=False) \n",
    "\n",
    "# ...but we'll certainly need to save the hillshade image to compare with the hillshade from the raw DEM to\n",
    "# evaluate whether the smoothing was sufficient.\n",
    "hs = wbe.multidirectional_hillshade(dem_smoothed)\n",
    "wbe.write_raster(hs, 'hillshade_smoothed.tif', compress=False) "
   ]
  },
  {
   "cell_type": "markdown",
   "id": "94a67ef2-baf1-4ee8-ab2b-5a6581e0357b",
   "metadata": {},
   "source": [
    "Go ahead and open the smoothed hillshade and compare it with the hillshade image derived from the original DEM to evaluate the degree to which we were successful in removing small-scale topographic variation without significantly affecting the edges of important features, e.g. stream channels. You can go ahead and change the parameters of the `feature_preserving_smoothing` function to adjust the level of smoothing. The main parameters affecting the degree of smoothing are the `normal_diff_threshold` and the `iterations`, but increasing `filter_size` can also impact it.\n",
    "\n",
    "Once you're satified with the amount of smoothing, we can derive contours from the DEM for visualization purposes."
   ]
  },
  {
   "cell_type": "code",
   "execution_count": null,
   "id": "12ad2e12-590c-428e-9265-2fb2734ab38d",
   "metadata": {
    "scrolled": true
   },
   "outputs": [],
   "source": [
    "contours = wbe.contours_from_raster(dem_smoothed, contour_interval=10.0)\n",
    "wbe.write_vector(contours, 'contours.shp')"
   ]
  },
  {
   "cell_type": "markdown",
   "id": "ec56ebe1-2783-45c3-9e74-de3f8aa107bf",
   "metadata": {},
   "source": [
    "How about extracting breaklines? This function requires the WbW-Pro license, however, so be sure your floating license ID is for this product before running the code below."
   ]
  },
  {
   "cell_type": "code",
   "execution_count": null,
   "id": "a919e05d-c3ea-410d-ba69-9799fbdec5b9",
   "metadata": {
    "scrolled": true
   },
   "outputs": [],
   "source": [
    "breaklines = wbe.breakline_mapping(dem_smoothed, threshold=3.0, min_length=3)\n",
    "wbe.write_vector(breaklines, 'breaklines.shp')"
   ]
  },
  {
   "cell_type": "markdown",
   "id": "f79c2c8e-b740-48bc-bbfa-576a24751d90",
   "metadata": {},
   "source": [
    "You may overlay your contours (and optionally the breaklines) on your hillshade image in QGIS if you would like to see the result. You can decrease the `threshold` parameter to create more extensive breakline coverage, and increase it to have the coverage focused on only major breaklines. Experiment with this parameter until you are satisfied with the breakline coverage."
   ]
  },
  {
   "cell_type": "markdown",
   "id": "99e995eb-a2fa-428d-b666-e84ce92db8ef",
   "metadata": {},
   "source": [
    "## Performing hydrological analyses on the DEM"
   ]
  },
  {
   "cell_type": "markdown",
   "id": "ad212541-5bc1-4b58-be16-96c571c16412",
   "metadata": {},
   "source": [
    "Now let's do a bit of hydrological processing of the data, including extracting a stream network."
   ]
  },
  {
   "cell_type": "code",
   "execution_count": null,
   "id": "28f6af48-835f-4907-b8ce-b576dc33a986",
   "metadata": {
    "scrolled": true
   },
   "outputs": [],
   "source": [
    "import math # We'll use the log function below\n",
    "\n",
    "# Remove the depressions, first by breaching the depressions using a max dist so that it doesn't\n",
    "# carve excessively long trenches for very deep pits, and then filling the remaining depressions\n",
    "dem_no_deps = wbe.breach_depressions_least_cost(dem_smoothed, flat_increment=0.001, max_dist=100) # Change the max dist parameter as appropriate for your DEM\n",
    "dem_no_deps = wbe.fill_depressions(dem_no_deps, flat_increment=0.001)\n",
    "\n",
    "# Perform a flow-accumulation operation. Here I'm using the Qin (2007) multiple flow direction algorithm\n",
    "# but there are many other options available, including D-infinity.\n",
    "#\n",
    "# Stream channels are usually identified as areas of relatively high flow accumulation and are mapped by thresholding\n",
    "# flow accumulation values. Let's choose a threshold value.\n",
    "channel_threshold = 25000.0\n",
    "flow_accum = wbe.qin_flow_accumulation(dem_no_deps, out_type='cells', convergence_threshold=channel_threshold, log_transform=True)\n",
    "wbe.write_raster(flow_accum, 'qin_flow_accum.tif')\n",
    "\n",
    "# Map the streams by thresholding the flow accum raster, using the same convergence threshold used above. This way\n",
    "# we can be assured that the streams are single-cell wide D8 representation, which is needed for any stream\n",
    "# network analysis operations.\n",
    "streams = flow_accum > math.log(channel_threshold)"
   ]
  },
  {
   "cell_type": "markdown",
   "id": "20029938-aeea-4488-ba01-9aa0e063d868",
   "metadata": {},
   "source": [
    "Decreasing the value of `channel_threshold` will result in a more extensive network of stream channels and increasing it will result in a less extensive network. The channel threshold of 25000 (in grid cells) has been selected simply by examining the values of flow accumulation within the `qin_flow_accum.tif` file near the headwaters of the visible stream channels in the hillshade image. There will, of course, be variation in this value and it may require some refining to get a reasonable value that performs well throughout. In fact, geomorphologists often use more sophisticated methods, usually involving slope and sometimes other factors, to select a channelization threshold. Experiment with the value of `channel_threshold` to see how the stream network is impacted by this value.\n",
    "\n",
    "Now let's map the areas draining to an outlet point and to various parts of the stream network..."
   ]
  },
  {
   "cell_type": "code",
   "execution_count": null,
   "id": "7f981d77-89be-437c-a399-ade5b4256970",
   "metadata": {
    "scrolled": true
   },
   "outputs": [],
   "source": [
    "# Let's extract the watershed for a specific outlet point\n",
    "outlet = wbe.read_vector('outlet.shp') # This is a vector point that was included when we downloaded the `mill_brook` dataset.\n",
    "\n",
    "# Make sure that the outlet is positioned along the stream\n",
    "outlet = wbe.jenson_snap_pour_points(outlet, streams, 5.0)\n",
    "\n",
    "# We need a d8-pointer raster to be able to route flow through the network\n",
    "d8_pntr = wbe.d8_pointer(dem_no_deps)\n",
    "\n",
    "# Extract the outlet's watershed\n",
    "watershed = wbe.watershed(d8_pointer=d8_pntr, pour_points=outlet)\n",
    "\n",
    "# Vectorize the watershed polygon for visualization\n",
    "watershed_vec = wbe.raster_to_vector_polygons(watershed)\n",
    "# Smooth the watershed map for visualization\n",
    "watershed_vec = wbe.smooth_vectors(watershed_vec, filter_size=5) \n",
    "wbe.write_vector(watershed_vec, 'watershed.shp')\n",
    "\n",
    "# Now, we only want the streams inside the watershed\n",
    "streams = streams * watershed # Notice that we can treat the rasters like any other Python variable in a math equation.\n",
    "\n",
    "# Perform a stream network analysis on the stream vector\n",
    "streams_vec = wbe.raster_streams_to_vector(streams, d8_pntr)\n",
    "streams_vec, tmp1, tmp2, tmp3 = wbe.vector_stream_network_analysis(streams_vec, dem_no_deps) # We only want the streams output\n",
    "wbe.write_vector(streams_vec, 'streams.shp')\n",
    "\n",
    "# Extract all of the watersheds, draining to each outlet on the edge of the DEM using the 'basins' function.\n",
    "basins = wbe.basins(d8_pntr)\n",
    "wbe.write_raster(basins, 'basins.tif')\n",
    "\n",
    "# How about extracting subcatchments, i.e. the areas draining directly to each link in the stream network?\n",
    "subcatchments = wbe.subbasins(d8_pntr, streams)\n",
    "wbe.write_raster(subcatchments, 'subcatchments.tif')\n",
    "\n",
    "# Or perhaps map Strahler basins, i.e. the areas draining to Strahler order 1, 2, 3, etc. streams...\n",
    "strahler_basins = wbe.strahler_order_basins(d8_pointer=d8_pntr, streams=streams)\n",
    "wbe.write_raster(strahler_basins, 'strahler_basins.tif')"
   ]
  },
  {
   "cell_type": "code",
   "execution_count": null,
   "id": "ae95169e-1f75-4382-9896-36acbbd43f31",
   "metadata": {},
   "outputs": [],
   "source": []
  }
 ],
 "metadata": {
  "kernelspec": {
   "display_name": "Python 3 (ipykernel)",
   "language": "python",
   "name": "python3"
  },
  "language_info": {
   "codemirror_mode": {
    "name": "ipython",
    "version": 3
   },
   "file_extension": ".py",
   "mimetype": "text/x-python",
   "name": "python",
   "nbconvert_exporter": "python",
   "pygments_lexer": "ipython3",
   "version": "3.11.0"
  }
 },
 "nbformat": 4,
 "nbformat_minor": 5
}
