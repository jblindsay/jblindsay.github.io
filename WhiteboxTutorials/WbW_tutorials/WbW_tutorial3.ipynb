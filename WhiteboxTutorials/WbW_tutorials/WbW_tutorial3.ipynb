{
 "cells": [
  {
   "cell_type": "markdown",
   "id": "d65ee577-3eec-44a7-8dbe-f5a47df654b2",
   "metadata": {},
   "source": [
    "# Whitebox Workflows for Python (WbW) Tutorial 3: Mapping Building Footprints from LiDAR"
   ]
  },
  {
   "cell_type": "markdown",
   "id": "6cd7d31d-92d2-477b-b2af-7ac2f2eb8144",
   "metadata": {},
   "source": [
    "## Introduction"
   ]
  },
  {
   "cell_type": "markdown",
   "id": "b019b857-8518-4177-9bab-9874c2840fe7",
   "metadata": {},
   "source": [
    "This tutorial is part of a series that includes:\n",
    "\n",
    "- [Tutorial 1: Hydrological Analysis](https://jblindsay.github.io/WhiteboxTutorials/WbW_tutorials/WbW_tutorial1.ipynb)\n",
    "- [Tutorial 2: Geomorphometric Analysis](https://jblindsay.github.io/WhiteboxTutorials/WbW_tutorials/WbW_tutorial2.ipynb)\n",
    "- [Tutorial 3: Mapping Building Footprints from LiDAR](https://jblindsay.github.io/WhiteboxTutorials/WbW_tutorials/WbW_tutorial3.ipynb)\n",
    "- [Tutorial 4: Data visualization with Whitebox Workflows and matplotlib](https://jblindsay.github.io/WhiteboxTutorials/WbW_tutorials/WbW_visualization.ipynb)\n",
    "\n",
    "\n",
    "This tutorial is intended to demonstrate how to use the WbW geospatial analysis library to map building footprints from a LiDAR point cloud. It requires a valid license for WbW-Pro. For more information about the WbW library you may refer to the [user manual](https://www.whiteboxgeo.com/manual/wbw-user-manual/book/preface.html). **You may download a copy of the raw [Jupyter Notebooks](https://jupyter.org/) file (`*.ipynb`) [from here](https://github.com/jblindsay/jblindsay.github.io/blob/master/WhiteboxTutorials/WbW_tutorials/WbW_tutorial3.ipynb).**"
   ]
  },
  {
   "cell_type": "markdown",
   "id": "90aed710-48fb-4ff9-843c-15d5db224c6a",
   "metadata": {},
   "source": [
    "## Setting up WbW"
   ]
  },
  {
   "cell_type": "markdown",
   "id": "b6e623b6-6fc5-4d22-81f2-ee59518ae681",
   "metadata": {},
   "source": [
    "If you haven't already done so, install the Whitebox Worfklows for Python pip package."
   ]
  },
  {
   "cell_type": "code",
   "execution_count": null,
   "id": "10f77f01-511f-450d-9bc0-f1a4fd4732cb",
   "metadata": {},
   "outputs": [],
   "source": [
    "pip install whitebox-workflows"
   ]
  },
  {
   "cell_type": "markdown",
   "id": "10c37f46-7b36-41c6-8f3d-968929f0e75e",
   "metadata": {},
   "source": [
    "We need to import the `whitebox_workflows` library into our script and set up our floating license ID, which will be used by WbW-Pro. Once you register your WbW-Pro license, you will be emailed your unique floating license ID, which will likely be a randomly generated three-word phrase, involving an animal. The license below was used for the *Geomorphometry 2023* conference in Iasi, Romania and will be valid until mid-August 2023. After that point, you will need to purchase a license for WbW-Pro (about 350USD) to use the scripts below. Licenses can be purchased from [Whitebox Geospatial Inc.](https://www.whiteboxgeo.com/whitebox-workflows-for-python/)"
   ]
  },
  {
   "cell_type": "code",
   "execution_count": null,
   "id": "e9640213-afd3-4289-bb65-46335272138d",
   "metadata": {},
   "outputs": [],
   "source": [
    "import whitebox_workflows\n",
    "\n",
    "license_id = 'geomorphometry-2023' # Update this value with your own license ID when this one expires.\n",
    "\n",
    "wbe = whitebox_workflows.WbEnvironment(license_id)\n",
    "wbe.verbose = True # Let each of the function calls output to stdout.\n",
    "\n",
    "print(wbe.version()) # Let's see what version of WbW we're working with"
   ]
  },
  {
   "cell_type": "markdown",
   "id": "0f24a481-ba81-41cf-95de-eb63dc2e907c",
   "metadata": {},
   "source": [
    "Now let's set the script parameters."
   ]
  },
  {
   "cell_type": "code",
   "execution_count": null,
   "id": "b4f90f33-7617-48d0-842b-89758ce659c6",
   "metadata": {},
   "outputs": [],
   "source": [
    "# Script parameters\n",
    "resolution = 0.5 # in meters; determines cell size of DEM/DTM\n",
    "filter_size = 151 # In grid cells; will need to adjust filter size for largest building\n",
    "slope_threshold = 15.0 # In degrees; 15 works well but may have to adjust if applied on steeper terrain\n",
    "min_height1 = 1.5 # affects the definition of edges of features\n",
    "min_height2 = 3.0 # will need to set this for minimum building height\n",
    "min_area = 200 # in grid cells; at 200 grid cells, with a resoltion of 0.5 m, it would mean a building has to be at least 50 m^2.\n",
    "smoothing_factor = 5 # size of smoothing filter; must be odd integer, higher applies more smoothing and set to zero for none\n",
    "building_footprint_filename = 'building_footprints.shp'"
   ]
  },
  {
   "cell_type": "markdown",
   "id": "d2c5aa2f-2220-41fa-b15c-cf0cf9fe0de3",
   "metadata": {},
   "source": [
    "Download the Kitchener_lidar sample LiDAR file. Notice that it may take a few minutes to download the data. In the event that the download takes more than a few minutes, the connection may timeout and you will receive an error. If this should happen, you may download the dataset directly [from here](http://www.whiteboxgeo.com/sample_data/Kitchener_lidar.zip) but you will need to update the `wbe.working_directory` to your download folder."
   ]
  },
  {
   "cell_type": "code",
   "execution_count": null,
   "id": "0a4ddd9e-f859-4b15-a623-d8c0f6f9c9b6",
   "metadata": {},
   "outputs": [],
   "source": [
    "# Download the Kitchener_lidar sample lidar tile\n",
    "wbe.working_directory = whitebox_workflows.download_sample_data('Kitchener_lidar')\n",
    "print(f'Data have been stored in: {wbe.working_directory}')\n",
    "\n",
    "lidar = wbe.read_lidar('Kitchener_lidar.laz') # read in the lidar data set"
   ]
  },
  {
   "cell_type": "markdown",
   "id": "3afb7f19-a0b8-4eb2-ab07-18a4f712e3e2",
   "metadata": {},
   "source": [
    "Finally, let's map the building footprints..."
   ]
  },
  {
   "cell_type": "code",
   "execution_count": null,
   "id": "2cc42279-1a52-4513-826e-dd8cd29f7ef7",
   "metadata": {
    "scrolled": true
   },
   "outputs": [],
   "source": [
    "# Interpolate a last-return DEM\n",
    "dem = wbe.lidar_tin_gridding(lidar, returns_included='last', cell_size=resolution, excluded_classes=[3,4,5])\n",
    "wbe.write_raster(dem, 'DEM.tif')\n",
    "\n",
    "# Remove the off-terrain objects (OTOs)\n",
    "dtm = wbe.remove_off_terrain_objects(dem, filter_size=filter_size, slope_threshold=slope_threshold)\n",
    "oto_heights = dem - dtm # measure OTO height as a DEM of diff\n",
    "# wbe.write_raster(oto_heights, 'oto_heights.tif') # uncomment for quality control\n",
    "\n",
    "# Filter out features based on height and area\n",
    "otos = oto_heights > min_height1\n",
    "otos = wbe.clump(otos, zero_background=True)\n",
    "otos_max_hgt, tmp = wbe.zonal_statistics(oto_heights, otos, stat_type='maximum')\n",
    "otos = otos_max_hgt > min_height2\n",
    "# wbe.write_raster(otos, 'otos.tif') # uncomment for quality control\n",
    "otos = wbe.generalize_classified_raster(raster=otos, area_threshold=min_area, method = \"largest\")\n",
    "# wbe.write_raster(otos, 'otos2.tif') # uncomment for quality control\n",
    "\n",
    "building_footprints = wbe.raster_to_vector_polygons(otos)\n",
    "if smoothing_factor > 0:\n",
    "    building_footprints = wbe.smooth_vectors(building_footprints, filter_size=smoothing_factor)\n",
    "\n",
    "# Save the final map\n",
    "wbe.write_vector(building_footprints, building_footprint_filename)\n",
    "\n",
    "print('Done!')"
   ]
  },
  {
   "cell_type": "markdown",
   "id": "564613e7-e25d-437e-93b1-856c11b85464",
   "metadata": {},
   "source": [
    "You should end up with something that looks a little like this:\n",
    "\n",
    "<img src='img/building_footprints.png' width=\"600\" height=\"auto\">\n",
    "\n",
    "Here, we have overlaid the final `building_footprints.shp` as black lines overtop the `DEM.tif` output.\n",
    "\n",
    "Note that the reason that this process requires a license for WbW-Pro, rather than a less expensive WbW license, is the use of the `generalize_classified_raster` function, which lives in WbW-Pro. This function is essential for simplifying footprint shapes (including removing 'donut holes') and removing small features."
   ]
  },
  {
   "cell_type": "markdown",
   "id": "78fb46ec-9caf-4494-bc36-1b276aaae116",
   "metadata": {},
   "source": [
    "## Wrapping things up"
   ]
  },
  {
   "cell_type": "markdown",
   "id": "10f3e157-d67d-4986-b4e4-3e100f141229",
   "metadata": {},
   "source": [
    "Don't forget to check your license in after you're done using it. If you skip this step, your checked-out license won't be returned to the license pool for others to use for one hour. Be kind to others!"
   ]
  },
  {
   "cell_type": "code",
   "execution_count": null,
   "id": "05a4f79e-fefc-475e-959e-378ad95fdcd9",
   "metadata": {},
   "outputs": [],
   "source": [
    "print(wbe.check_in_license(license_id))"
   ]
  },
  {
   "cell_type": "code",
   "execution_count": null,
   "id": "0c8b2cf0-8c51-48f5-bd9f-409fa32d6ab0",
   "metadata": {},
   "outputs": [],
   "source": []
  }
 ],
 "metadata": {
  "kernelspec": {
   "display_name": "Python 3 (ipykernel)",
   "language": "python",
   "name": "python3"
  },
  "language_info": {
   "codemirror_mode": {
    "name": "ipython",
    "version": 3
   },
   "file_extension": ".py",
   "mimetype": "text/x-python",
   "name": "python",
   "nbconvert_exporter": "python",
   "pygments_lexer": "ipython3",
   "version": "3.11.0"
  }
 },
 "nbformat": 4,
 "nbformat_minor": 5
}
