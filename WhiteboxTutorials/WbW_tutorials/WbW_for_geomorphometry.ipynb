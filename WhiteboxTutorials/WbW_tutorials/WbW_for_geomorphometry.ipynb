{
 "cells": [
  {
   "cell_type": "markdown",
   "metadata": {},
   "source": [
    "# Whitebox Workflows (WbW) for Geomorphometry"
   ]
  },
  {
   "cell_type": "markdown",
   "metadata": {},
   "source": [
    "## Introduction"
   ]
  },
  {
   "cell_type": "markdown",
   "metadata": {},
   "source": [
    "This tutorial is intended to demonstrate the use of Whitebox Workflows for Python (WbW) for performing a geomorphometric analysis. It accompanies the book chapter: \n",
    "\n",
    "Lindsay, J.B. (In Review) \"Chapter 17 Geomorphometry in Whitebox\", in Rueter, H., Grohman, C. and Lecours, V. (eds.) *Geomorphometry: Concepts, Software, Applications (2nd edition)*, Elsevier.\n",
    "\n",
    "Geomorphometry is the field focused on understanding landscape processes using digital topography, i.e., digital elevation models (DEMs). This tutorial will not cover all of the functionality related to geomorphometry contained within WbW. For more information, you may refer to the [user manual](https://www.whiteboxgeo.com/manual/wbw-user-manual/book/preface.html). "
   ]
  },
  {
   "cell_type": "markdown",
   "metadata": {},
   "source": [
    "## Setting up WbW"
   ]
  },
  {
   "cell_type": "markdown",
   "metadata": {},
   "source": [
    "If you haven't already done so, install the Whitebox Worfklows for Python pip package."
   ]
  },
  {
   "cell_type": "code",
   "execution_count": null,
   "metadata": {},
   "outputs": [],
   "source": [
    "pip install whitebox-workflows"
   ]
  },
  {
   "cell_type": "markdown",
   "metadata": {},
   "source": [
    "Or if you already have it installed in your Jupyter environment and need to update to the latest version..."
   ]
  },
  {
   "cell_type": "code",
   "execution_count": null,
   "metadata": {},
   "outputs": [],
   "source": [
    "pip install whitebox-workflows -U"
   ]
  },
  {
   "cell_type": "markdown",
   "metadata": {},
   "source": [
    "We need to import the `WbEnvironment` class from the `whitebox_workflows` library into our script."
   ]
  },
  {
   "cell_type": "code",
   "execution_count": null,
   "metadata": {},
   "outputs": [],
   "source": [
    "from whitebox_workflows import download_sample_data, show, WbEnvironment, WbPalette\n",
    "import matplotlib.pyplot as plt\n",
    "\n",
    "wbe = WbEnvironment()\n",
    "wbe.verbose = True # Let each of the function calls output to stdout.\n",
    "\n",
    "print(wbe.version()) # Let's see what version of WbW we're working with"
   ]
  },
  {
   "cell_type": "markdown",
   "metadata": {},
   "source": [
    "## Working with DEM data"
   ]
  },
  {
   "cell_type": "markdown",
   "metadata": {},
   "source": [
    "Let's create a new script to download some sample data. Here we'll grab the Ponui Island lidar DTM. The script below will download the data for us, assign the directory to which these data are downloaded to the `WbEnvironment` working directory and lastly print this location so we can know where the data are being stored. Notice that it may take a few minutes to download the data. In the event that the download takes more than a few minutes, the connection may timeout and you will receive an error. If this should happen, you may download the dataset directly [from here](http://www.whiteboxgeo.com/sample_data/Ponui_DTM.zip) but you will need to update the `wbe.working_directory` to the folder containing the downloaded data."
   ]
  },
  {
   "cell_type": "code",
   "execution_count": null,
   "metadata": {},
   "outputs": [],
   "source": [
    "# Download a sample dataset and set the working directory to the location of these data\n",
    "wbe.working_directory = download_sample_data('Ponui_DTM')\n",
    "print(f'Data have been stored in: {wbe.working_directory}')"
   ]
  },
  {
   "cell_type": "markdown",
   "metadata": {},
   "source": [
    "Now let's read in the DEM file and generate a multidirectional hillshade image for visualization."
   ]
  },
  {
   "cell_type": "code",
   "execution_count": null,
   "metadata": {},
   "outputs": [],
   "source": [
    "# Read in the DEM file.\n",
    "dtm = wbe.read_raster('DTM.tif') # This DEM file is contained in the downloaded data folder.\n",
    "\n",
    "# Let's print some metadata for this file.\n",
    "print(f\"Rows: {dtm.configs.rows}\")\n",
    "print(f\"Columns: {dtm.configs.columns}\")\n",
    "print(f\"Min X: {dtm.configs.west}\")\n",
    "print(f\"Max X: {dtm.configs.east}\")\n",
    "print(f\"Min Y: {dtm.configs.south}\")\n",
    "print(f\"Max Y: {dtm.configs.north}\")\n",
    "print(f\"Resolution (x direction): {dtm.configs.resolution_x}\")\n",
    "print(f\"Resolution (y direction): {dtm.configs.resolution_y}\")\n",
    "print(f\"NoData value: {dtm.configs.nodata}\")\n",
    "dtm.update_min_max() # Find the raster min/max values\n",
    "print(f\"Min. value: {dtm.configs.minimum}\")\n",
    "print(f\"Max. value: {dtm.configs.maximum}\")\n",
    "print(f\"Data type: {dtm.configs.data_type}\")\n",
    "\n",
    "# Now for a simple visualization of the DTM...\n",
    "show(dtm, skip=2, colorbar_kwargs={'label': 'Elevation (m)'})"
   ]
  },
  {
   "cell_type": "markdown",
   "metadata": {},
   "source": [
    "Let's create a multi-directional hillshade and use it to visualize the DTM with some hypsometric tinting."
   ]
  },
  {
   "cell_type": "code",
   "execution_count": null,
   "metadata": {},
   "outputs": [],
   "source": [
    "# create a hillshade image for visualization.\n",
    "wbe.verbose = False # No need for progress updates\n",
    "hillshade = wbe.multidirectional_hillshade(dtm, full_360_mode=False)\n",
    "wbe.write_raster(hillshade, 'hillshade.tif', compress=True)\n",
    "\n",
    "# Let's visualize the DEM.\n",
    "fig, ax = plt.subplots()\n",
    "ax = show(\n",
    "    dtm, \n",
    "    ax=ax, \n",
    "    title='Ponui Island', \n",
    "    cmap=WbPalette.Earthtones, \n",
    "    figsize=(8,7), \n",
    "    skip=2, \n",
    "    colorbar_kwargs={'label': 'Elevation (m)', 'location': \"right\", 'shrink': 0.5}\n",
    ")\n",
    "ax = show(hillshade, ax=ax, cmap='grey', clip_percent=10.0, skip=2, alpha=0.15, zorder=2)\n",
    "\n",
    "plt.show()"
   ]
  },
  {
   "cell_type": "markdown",
   "metadata": {},
   "source": [
    "Let's smooth the surface roughness in the DTM using the feature preserving smoothing method of Lindsay et al. (2019)."
   ]
  },
  {
   "cell_type": "code",
   "execution_count": null,
   "metadata": {},
   "outputs": [],
   "source": [
    "# Perform the smoothing\n",
    "dtm_smoothed = wbe.feature_preserving_smoothing(\n",
    "    dem = dtm, \n",
    "    filter_size = 15, \n",
    "    normal_diff_threshold = 25.0, \n",
    "    iterations = 25,\n",
    "    max_elevation_diff = 4.0\n",
    ")\n",
    "\n",
    "# Now let's visualize the difference. First generate a comparison hillshade...\n",
    "hillshade_smoothed = wbe.multidirectional_hillshade(dtm_smoothed, full_360_mode=False)\n",
    "wbe.write_raster(hillshade_smoothed, 'hillshade_smoothed.tif', compress=True)\n",
    "\n",
    "# Now plot both raw and smoothed hillshade rasters.\n",
    "fig, ax = plt.subplots(2, 1, figsize=(5, 10))\n",
    "fig.tight_layout()\n",
    "\n",
    "ax[0] = show(\n",
    "    hillshade, \n",
    "    ax=ax[0], \n",
    "    title={'label': 'Original Hillshade', 'fontsize': 10, 'fontweight': 'bold'},\n",
    "    cmap='grey', \n",
    "    clip_percent=1.0, \n",
    "    skip=2\n",
    ")\n",
    "ax[0].tick_params(axis='both', labelsize=7)\n",
    "ax[0].xaxis.get_offset_text().set_fontsize(7)\n",
    "ax[0].yaxis.get_offset_text().set_fontsize(7)\n",
    "\n",
    "ax[1] = show(\n",
    "    hillshade_smoothed, \n",
    "    ax=ax[1], \n",
    "    title={'label': 'FPS Hillshade', 'fontsize': 10, 'fontweight': 'bold'}, \n",
    "    cmap='grey', \n",
    "    clip_percent=1.0, \n",
    "    skip=2\n",
    ")\n",
    "ax[1].tick_params(axis='both', labelsize=7)\n",
    "ax[1].xaxis.get_offset_text().set_fontsize(7)\n",
    "ax[1].yaxis.get_offset_text().set_fontsize(7)\n",
    "\n",
    "# Zoom to a smaller area so we can see the difference.\n",
    "ax[0].set_xlim([1794000.0, 1795000.0])\n",
    "ax[0].set_ylim([5918000.0, 5919000.0])\n",
    "ax[1].set_xlim([1794000.0, 1795000.0])\n",
    "ax[1].set_ylim([5918000.0, 5919000.0])\n",
    "\n",
    "plt.show()"
   ]
  },
  {
   "cell_type": "markdown",
   "metadata": {},
   "source": [
    "## Extracting land-surface parameters (LSPs)"
   ]
  },
  {
   "cell_type": "markdown",
   "metadata": {},
   "source": [
    "Now let's extract some common land-surface parameters (LSPs), the basic building blocks of a geomorphometric analysis."
   ]
  },
  {
   "cell_type": "code",
   "execution_count": null,
   "metadata": {},
   "outputs": [],
   "source": [
    "# Slope and aspect are two of the most common LSPs. Notice that we're combining the writing of the\n",
    "# output raster and the running of the function in one line. If you don't need to reuse the raster \n",
    "# objects created by a function and are only saving it to file this makes sense.\n",
    "wbe.write_raster(wbe.slope(dtm, units=\"degrees\"), 'slope.tif', compress=True)\n",
    "wbe.write_raster(wbe.aspect(dtm), 'aspect.tif', compress=True)\n",
    "\n",
    "# Surface curvatures describe surface shape. Note curvatures frequently display wide dynamic ranges.\n",
    "# To avoid loss of information on the spatial distribution of their values in mapping, a logarithmic \n",
    "# transform can be applied using the approach of Shary et al. (2002).\n",
    "wbe.write_raster(wbe.profile_curvature(dtm, log_transform=True), 'prof_curv.tif', compress=True)\n",
    "wbe.write_raster(wbe.tangential_curvature(dtm, log_transform=True), 'tan_curv.tif', compress=True)\n",
    "wbe.write_raster(wbe.plan_curvature(dtm, log_transform=True), 'plan_curv.tif', compress=True)\n",
    "wbe.write_raster(wbe.maximal_curvature(dtm, log_transform=True), 'max_curv.tif', compress=True)\n",
    "wbe.write_raster(wbe.mean_curvature(dtm, log_transform=True), 'mean_curv.tif', compress=True)\n",
    "wbe.write_raster(wbe.gaussian_curvature(dtm, log_transform=True), 'gauss_curv.tif', compress=True)\n",
    "wbe.write_raster(wbe.total_curvature(dtm, log_transform=True), 'total_curv.tif', compress=True)\n",
    "\n",
    "# Let's display minimal curvature.\n",
    "min_curv = wbe.minimal_curvature(dtm, log_transform=True).clamp(-4.0, 4.0)\n",
    "wbe.write_raster(min_curv, 'min_curv.tif', compress=True)\n",
    "\n",
    "# Now plot the data.\n",
    "fig, ax = plt.subplots()\n",
    "\n",
    "ax = show(\n",
    "    min_curv, \n",
    "    ax=ax, \n",
    "    title={'label': 'Minimal Curvature', 'fontsize': 10, 'fontweight': 'bold'},\n",
    "    cmap=WbPalette.BlueYellowRed, \n",
    "    clip_percent=0.0, \n",
    "    colorbar_kwargs={'label': 'Ln(m$\\mathregular{^{-1}}$)', 'location': \"right\", 'shrink': 0.5},\n",
    "    skip=2\n",
    ")\n",
    "\n",
    "# Zoom to a smaller area so we can see the difference.\n",
    "ax.set_xlim([1794000.0, 1795000.0])\n",
    "ax.set_ylim([5918000.0, 5919000.0])\n",
    "\n",
    "plt.show()"
   ]
  },
  {
   "cell_type": "markdown",
   "metadata": {},
   "source": [
    "The following LSPs can be used to characterize surface roughness and complexity."
   ]
  },
  {
   "cell_type": "code",
   "execution_count": 8,
   "metadata": {},
   "outputs": [],
   "source": [
    "wbe.write_raster(wbe.circular_variance_of_aspect(dtm, filter_size = 21), 'circular_variance_of_aspect.tif', compress=True)\n",
    "wbe.write_raster(wbe.edge_density(dtm, filter_size=21, normal_diff_threshold=5.0), 'edge_density.tif', compress=True)\n",
    "wbe.write_raster(wbe.spherical_std_dev_of_normals(dtm, filter_size = 21), 'spherical_sd_norms.tif', compress=True)\n",
    "wbe.write_raster(wbe.standard_deviation_of_slope(dtm, filter_size = 21), 'stdev_slope.tif', compress=True)\n",
    "wbe.write_raster(wbe.surface_area_ratio(dtm), 'surface_area_ratio.tif', compress=True)\n",
    "wbe.write_raster(wbe.ruggedness_index(dtm), 'ruggedness_index.tif', compress=True)"
   ]
  },
  {
   "cell_type": "markdown",
   "metadata": {},
   "source": [
    "Most of the measures of surface roughness and complexity above are measured for local neighbourhoods of a specified size (`filter_size = 21`). You may modify the `filter_size` parameter to see the impact of changing the scale of analysis on the output spatial distributions. Note that the grid resolution of the DEM is 1 m. Later we'll explore an alternative method for evaluating the multiscale nature of LSPs.\n",
    "\n",
    "Measures of local topographic position assess how elevated or low-lying a site is relative to its neighbouring landscape."
   ]
  },
  {
   "cell_type": "code",
   "execution_count": null,
   "metadata": {},
   "outputs": [],
   "source": [
    "wbe.write_raster(wbe.deviation_from_mean_elevation(dtm, filter_size_x=21, filter_size_y=21), 'dev.tif', compress=True)\n",
    "wbe.write_raster(wbe.difference_from_mean_elevation(dtm, filter_size_x=21, filter_size_y=21), 'diff.tif', compress=True)\n",
    "wbe.write_raster(wbe.elevation_percentile(dtm, filter_size_x=21, filter_size_y=21), 'ep.tif', compress=True)\n",
    "wbe.write_raster(wbe.percent_elev_range(dtm, filter_size_x=21, filter_size_y=21), 'percent_elev_range.tif', compress=True)"
   ]
  },
  {
   "cell_type": "markdown",
   "metadata": {},
   "source": [
    "## Multiscale geomorphometric analysis"
   ]
  },
  {
   "cell_type": "markdown",
   "metadata": {},
   "source": [
    "Many of the LSPs calculated above are scale dependent and require us to specify a measurement scale, usually in the form of a `filter_size` parameter. This parameter allows us to calculate these parameters at a single, uniform spatial scale. For many LSPs, Whitebox also allows us to calculate *scale mosiacs*. An LSP scale mosaic are calculated by estimating the normalized value of the LSP across a range of spatial scales, known as a scale space or stack, and then to identify the scale at which each grid cell is most expressive. This is known as the characteristic scale or key scale and it can be different for different locations. An LSP scale mosaic therefore represents the value of that LSP at the key scale of each individual grid cell. In comparison to the uniform scale approach, scale mosaics provide locally scale optimized representations of the LSP being measured. \n",
    "\n",
    "Let's create scale mosaics of deviation from mean elevation (DEV), a measure of relative topographic position, at three broadly defined scale ranges, including local, intermediate (meso), and broad scale ranges."
   ]
  },
  {
   "cell_type": "code",
   "execution_count": null,
   "metadata": {},
   "outputs": [],
   "source": [
    "# Let's turn off the verbose mode because these tools are pretty chatty\n",
    "wbe.verbose = False\n",
    "\n",
    "# Note, this processing may take a long while to complete.\n",
    "\n",
    "# Start with a local scale range of 0 - 150 m.\n",
    "print('Calculating the local scale range...')\n",
    "dev_local, key_scales_local = wbe.max_elevation_deviation(dtm, min_scale=1, max_scale=150, step_size=1)\n",
    "wbe.write_raster(dev_local, 'dev_multiscale_local.tif')\n",
    "wbe.write_raster(key_scales_local, 'key_scales_local.tif')\n",
    "\n",
    "# Now plot the data.\n",
    "fig, ax = plt.subplots(1, 2, figsize=(9.5, 8.0))\n",
    "fig.tight_layout()\n",
    "\n",
    "ax[0] = show(\n",
    "    dev_local.clamp(-2.5, 2.5), \n",
    "    ax=ax[0], \n",
    "    title={'label': 'Local Range DEVmax', 'fontsize': 10, 'fontweight': 'bold'},\n",
    "    cmap=WbPalette.BlueYellowRed,\n",
    "    colorbar_kwargs={'label': 'DEVmax', 'location': \"right\", 'shrink': 0.25}, \n",
    "    skip=2\n",
    ")\n",
    "ax[0].tick_params(axis='both', labelsize=7)\n",
    "ax[0].xaxis.get_offset_text().set_fontsize(7)\n",
    "ax[0].yaxis.get_offset_text().set_fontsize(7)\n",
    "# Let's zoom in on this one because of the fine detail.\n",
    "ax[0].set_xlim([1794000.0, 1795000.0])\n",
    "ax[0].set_ylim([5918000.0, 5919000.0])\n",
    "\n",
    "ax[1] = show(\n",
    "    key_scales_local, \n",
    "    ax=ax[1], \n",
    "    title={'label': 'Key Scales', 'fontsize': 10, 'fontweight': 'bold'}, \n",
    "    cmap=WbPalette.BlueGreenYellow,\n",
    "    colorbar_kwargs={'label': 'Key Scale', 'location': \"right\", 'shrink': 0.25},\n",
    "    skip=2\n",
    ")\n",
    "ax[1].tick_params(axis='both', labelsize=7)\n",
    "ax[1].xaxis.get_offset_text().set_fontsize(7)\n",
    "ax[1].yaxis.get_offset_text().set_fontsize(7)\n",
    "ax[1].set_xlim([1794000.0, 1795000.0])\n",
    "ax[1].set_ylim([5918000.0, 5919000.0])\n",
    "\n",
    "plt.show()\n"
   ]
  },
  {
   "cell_type": "markdown",
   "metadata": {},
   "source": [
    "The DEVmax scale mosaic above contains more topographic information than the `dev.tif` raster that we generated in the previous section using a single uniform scale of 21 m. Notice that in addition to the scale mosaic, each of the multiscale LSP functions in Whitebox also output a second raster for the key scales (i.e. the characteristic scale at which the 'optimal' LSP value is calculated). This raster tells you what scale each grid cell in the scale mosaic was calculated at and can contain useful information in its own right."
   ]
  },
  {
   "cell_type": "code",
   "execution_count": null,
   "metadata": {},
   "outputs": [],
   "source": [
    "# Note, this processing may take a long while to complete.\n",
    "\n",
    "# Now model the local scale range of 150 - 500 m.\n",
    "print('Calculating the intermediate scale range...')\n",
    "dev_meso, key_scales_meso = wbe.max_elevation_deviation(dtm, min_scale=150, max_scale=500, step_size=2)\n",
    "wbe.write_raster(dev_meso, 'dev_multiscale_meso.tif')\n",
    "wbe.write_raster(key_scales_meso, 'key_scales_meso.tif')\n",
    "\n",
    "# Now plot the data.\n",
    "fig, ax = plt.subplots(1, 2, figsize=(9.5, 8.0))\n",
    "fig.tight_layout()\n",
    "\n",
    "ax[0] = show(\n",
    "    dev_meso.clamp(-2.5, 2.5), \n",
    "    ax=ax[0], \n",
    "    title={'label': 'Meso Range DEVmax', 'fontsize': 10, 'fontweight': 'bold'},\n",
    "    cmap=WbPalette.BlueYellowRed,\n",
    "    colorbar_kwargs={'label': 'DEVmax', 'location': \"right\", 'shrink': 0.25}, \n",
    "    skip=2\n",
    ")\n",
    "ax[0].tick_params(axis='both', labelsize=7)\n",
    "ax[0].xaxis.get_offset_text().set_fontsize(7)\n",
    "ax[0].yaxis.get_offset_text().set_fontsize(7)\n",
    "\n",
    "ax[1] = show(\n",
    "    key_scales_meso, \n",
    "    ax=ax[1], \n",
    "    title={'label': 'Key Scales', 'fontsize': 10, 'fontweight': 'bold'}, \n",
    "    cmap=WbPalette.BlueGreenYellow,\n",
    "    colorbar_kwargs={'label': 'Key Scale', 'location': \"right\", 'shrink': 0.25},\n",
    "    skip=2\n",
    ")\n",
    "ax[1].tick_params(axis='both', labelsize=7)\n",
    "ax[1].xaxis.get_offset_text().set_fontsize(7)\n",
    "ax[1].yaxis.get_offset_text().set_fontsize(7)\n",
    "\n",
    "plt.show()"
   ]
  },
  {
   "cell_type": "code",
   "execution_count": null,
   "metadata": {},
   "outputs": [],
   "source": [
    "# Note, this processing may take a long while to complete.\n",
    "\n",
    "# Finally, model a broad scale range of 500 - 2000 m.\n",
    "print('Calculating the broad scale range...')\n",
    "dev_broad, key_scales_broad = wbe.max_elevation_deviation(dtm, min_scale=500, max_scale=2000, step_size=10)\n",
    "wbe.write_raster(dev_broad, 'dev_multiscale_broad.tif')\n",
    "wbe.write_raster(key_scales_broad, 'key_scales_broad.tif')\n",
    "\n",
    "# Now plot the data.\n",
    "fig, ax = plt.subplots(1, 2, figsize=(9.5, 8.0))\n",
    "fig.tight_layout()\n",
    "\n",
    "ax[0] = show(\n",
    "    dev_broad.clamp(-2.5, 2.5), \n",
    "    ax=ax[0], \n",
    "    title={'label': 'Broad Range DEVmax', 'fontsize': 10, 'fontweight': 'bold'},\n",
    "    cmap=WbPalette.BlueYellowRed,\n",
    "    colorbar_kwargs={'label': 'DEVmax', 'location': \"right\", 'shrink': 0.25}, \n",
    "    skip=2\n",
    ")\n",
    "ax[0].tick_params(axis='both', labelsize=7)\n",
    "ax[0].xaxis.get_offset_text().set_fontsize(7)\n",
    "ax[0].yaxis.get_offset_text().set_fontsize(7)\n",
    "\n",
    "ax[1] = show(\n",
    "    key_scales_broad, \n",
    "    ax=ax[1], \n",
    "    title={'label': 'Key Scales', 'fontsize': 10, 'fontweight': 'bold'}, \n",
    "    cmap=WbPalette.BlueGreenYellow,\n",
    "    colorbar_kwargs={'label': 'Key Scale', 'location': \"right\", 'shrink': 0.25},\n",
    "    skip=2\n",
    ")\n",
    "ax[1].tick_params(axis='both', labelsize=7)\n",
    "ax[1].xaxis.get_offset_text().set_fontsize(7)\n",
    "ax[1].yaxis.get_offset_text().set_fontsize(7)\n",
    "\n",
    "plt.show()"
   ]
  },
  {
   "cell_type": "markdown",
   "metadata": {},
   "source": [
    "When you create three scale mosaics for broadly defined local, intermediate, and broad scale ranges, as we have here, it is possible to join each of the three scale mosaics into a single multiscale topographic position (MSTP) image. The MSTP is a colour composite that is really only meant for visualization purposes, but can be very effective for interpreting landscapes. In effect, with a MSTP image, you are using colour to represent spatial scales. Pixels that are blue are most deviated (either elevated or low-lying) at the local scale, green pixels are most deviated at the intermediate scale, and redish pixels are most deviated at the broadest tested scale range. Of course, you can also have combinations therein, e.g. a yellow pixel is one that is deviated at the intermediate and broad scales, but not particularly deviated at the local scale.\n",
    "\n",
    "While the MSTP image is useful for visualization and interpretation, ultimately it is the scale mosaics (DEVmax above) images that are most useful as modelling inputs (i.e., predictors)."
   ]
  },
  {
   "cell_type": "code",
   "execution_count": null,
   "metadata": {},
   "outputs": [],
   "source": [
    "print('Calculating the multiscale topographic position image...')\n",
    "mstp = wbe.multiscale_topographic_position_image(dev_local, dev_meso, dev_broad)\n",
    "wbe.write_raster(mstp, 'mstp.tif')\n",
    "\n",
    "# Now plot the data.\n",
    "fig, ax = plt.subplots(2, 1, figsize=(5, 10))\n",
    "fig.tight_layout()\n",
    "\n",
    "ax[0] = show(\n",
    "    mstp, \n",
    "    ax=ax[0], \n",
    "    title={'label': 'MSTP Image', 'fontsize': 10, 'fontweight': 'bold'},\n",
    "    clip_percent=1.0, \n",
    "    skip=2,\n",
    "    zorder=1\n",
    ")\n",
    "ax[0] = show(hillshade, ax=ax[0], cmap='grey', clip_percent=10.0, skip=2, alpha=0.15, zorder=2)\n",
    "ax[0].tick_params(axis='both', labelsize=7)\n",
    "ax[0].xaxis.get_offset_text().set_fontsize(7)\n",
    "ax[0].yaxis.get_offset_text().set_fontsize(7)\n",
    "\n",
    "ax[1] = show(\n",
    "    mstp, \n",
    "    ax=ax[1], \n",
    "    title={'label': 'MSTP Inset Image', 'fontsize': 10, 'fontweight': 'bold'}, \n",
    "    clip_percent=1.0, \n",
    "    skip=2,\n",
    "    zorder=1\n",
    ")\n",
    "ax[1] = show(hillshade, ax=ax[1], cmap='grey', clip_percent=10.0, skip=2, alpha=0.15, zorder=2)\n",
    "ax[1].tick_params(axis='both', labelsize=7)\n",
    "ax[1].xaxis.get_offset_text().set_fontsize(7)\n",
    "ax[1].yaxis.get_offset_text().set_fontsize(7)\n",
    "\n",
    "# Zoom to a smaller area so we can see the difference.\n",
    "ax[1].set_xlim([1794000.0, 1795000.0])\n",
    "ax[1].set_ylim([5918000.0, 5919000.0])\n",
    "\n",
    "plt.show()"
   ]
  },
  {
   "cell_type": "markdown",
   "metadata": {},
   "source": [
    "Whitebox contains functions for calculating other multiscale LSPs as well, including `multiscale_elevation_percentile`, `multiscale_roughness`, `multiscale_std_dev_normals`, `max_anisotropy_dev`, `gaussian_scale_space`, and `multiscale_curvatures`. Notice that  use of the `multiscale_curvatures` function **requires a WbW-Pro license**. This is how you might use the `multiscale_curvatures` tool to extract a multiscale version of minimal curvature for a scale range of 2-50 m."
   ]
  },
  {
   "cell_type": "code",
   "execution_count": 26,
   "metadata": {},
   "outputs": [],
   "source": [
    "curv_mosaic, key_scales = wbe.multiscale_curvatures(\n",
    "    dtm, \n",
    "    curv_type = 'MinimalCurvature', \n",
    "    min_scale = 2, \n",
    "    step_size = 1, \n",
    "    num_steps = 49, \n",
    "    step_nonlinearity = 1.0,\n",
    "    log_transform = False,\n",
    "    standardize = True\n",
    "  )\n",
    "wbe.write_raster(curv_mosaic, 'ms_min_curv.tif')\n",
    "wbe.write_raster(key_scales, 'ms_min_curv_key_scales.tif')"
   ]
  }
 ],
 "metadata": {
  "kernelspec": {
   "display_name": "Python 3",
   "language": "python",
   "name": "python3"
  },
  "language_info": {
   "codemirror_mode": {
    "name": "ipython",
    "version": 3
   },
   "file_extension": ".py",
   "mimetype": "text/x-python",
   "name": "python",
   "nbconvert_exporter": "python",
   "pygments_lexer": "ipython3",
   "version": "3.12.3"
  }
 },
 "nbformat": 4,
 "nbformat_minor": 2
}
