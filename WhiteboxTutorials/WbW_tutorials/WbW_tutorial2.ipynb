{
 "cells": [
  {
   "cell_type": "markdown",
   "id": "91847d6e-349d-40e4-aba7-ab5bf9db4d22",
   "metadata": {},
   "source": [
    "# Whitebox Workflows for Python (WbW) Tutorial 2: Geomorphometric Analysis"
   ]
  },
  {
   "cell_type": "markdown",
   "id": "747901d1-7c36-4258-a89e-2b91b5127f3b",
   "metadata": {},
   "source": [
    "## Introduction"
   ]
  },
  {
   "cell_type": "markdown",
   "id": "b07d185d-864a-4726-aa3e-97ecf79f92c3",
   "metadata": {},
   "source": [
    "This tutorial is part of a series that includes:\n",
    "\n",
    "- [Tutorial 1: Hydrological Analysis](https://jblindsay.github.io/WhiteboxTutorials/WbW_tutorials/WbW_tutorial1.ipynb)\n",
    "- [Tutorial 2: Geomorphometric Analysis](https://jblindsay.github.io/WhiteboxTutorials/WbW_tutorials/WbW_tutorial2.ipynb)\n",
    "- [Tutorial 3: Mapping Building Footprints from LiDAR](https://jblindsay.github.io/WhiteboxTutorials/WbW_tutorials/WbW_tutorial3.ipynb)\n",
    "- [Tutorial 4: Data visualization with Whitebox Workflows and matplotlib](https://jblindsay.github.io/WhiteboxTutorials/WbW_tutorials/WbW_visualization.ipynb)\n",
    "\n",
    "This tutorial is intended to demonstrate how to use the WbW geospatial analysis library to perform a geomorphometric analysis. Geomorphometry is the field focused on understanding landscape processes using digital topography, i.e., digital elevation models (DEMs). This tutorial will not cover all of the functionality related to geomorphometry contained within WbW. For more information, you may refer to the [user manual](https://www.whiteboxgeo.com/manual/wbw-user-manual/book/preface.html). **You may download a copy of the raw [Jupyter Notebooks](https://jupyter.org/) file (`*.ipynb`) [from here](https://github.com/jblindsay/jblindsay.github.io/blob/master/WhiteboxTutorials/WbW_tutorials/WbW_tutorial2.ipynb).**"
   ]
  },
  {
   "cell_type": "markdown",
   "id": "cbb7815e-3c70-47fa-97a3-914e1f53ce66",
   "metadata": {},
   "source": [
    "## Setting up WbW"
   ]
  },
  {
   "cell_type": "markdown",
   "id": "c0692c8d-b95f-4617-adb9-87a71b25cf5b",
   "metadata": {},
   "source": [
    "If you haven't already done so, install the Whitebox Worfklows for Python pip package."
   ]
  },
  {
   "cell_type": "code",
   "execution_count": null,
   "id": "ab9928ef-eac9-47e0-82ac-9298527b2a16",
   "metadata": {},
   "outputs": [],
   "source": [
    "pip install whitebox-workflows"
   ]
  },
  {
   "cell_type": "markdown",
   "id": "19108138-5196-4a10-9e6e-738d5d6177d6",
   "metadata": {},
   "source": [
    "We need to import the `WbEnvironment` class from the `whitebox_workflows` library into our script and set up our floating license ID. Once you register your WbW license, you will be emailed your unique floating license ID, which will likely be a randomly generated three-word phrase, involving an animal. The license below was used for the *Geomorphometry 2023* conference in Iasi, Romania and will be valid until August 2023. After that point, you will need to purchase a license for eithter WbW (about 10USD) or WbW-Pro (about 350USD) to use the scripts below. Licenses can be purchased from [Whitebox Geospatial Inc.](https://www.whiteboxgeo.com/whitebox-workflows-for-python/)"
   ]
  },
  {
   "cell_type": "code",
   "execution_count": null,
   "id": "56af436b-b9f5-439d-9a19-737f3a90026e",
   "metadata": {},
   "outputs": [],
   "source": [
    "from whitebox_workflows import WbEnvironment, download_sample_data\n",
    "\n",
    "license_id = 'Replace with your floating license ID'\n",
    "wbe = WbEnvironment(license_id)\n",
    "wbe.verbose = True # Let each of the function calls output to stdout.\n",
    "\n",
    "print(wbe.version()) # Let's see what version of WbW we're working with"
   ]
  },
  {
   "cell_type": "markdown",
   "id": "9233d666-6a9e-436b-a61a-79c40831dc0f",
   "metadata": {},
   "source": [
    "## Working with DEM data"
   ]
  },
  {
   "cell_type": "markdown",
   "id": "2b7e7fbd-b1d1-49f3-95b6-7cad30a39b56",
   "metadata": {},
   "source": [
    "Let's create a new script to download some sample data. Here we'll grab the 'peterborough_drumlins' DEM. The script below will download the data for us, assign the directory to which these data are downloaded to the `WbEnvironment` working directory and lastly print this location so we can know where the data are being stored. Notice that it may take a few minutes to download the data. In the event that the download takes more than a few minutes, the connection may timeout and you will receive an error. If this should happen, you may download the dataset directly [from here](http://www.whiteboxgeo.com/sample_data/peterborough_drumlins.zip) but you will need to update the `wbe.working_directory` to your download folder."
   ]
  },
  {
   "cell_type": "code",
   "execution_count": null,
   "id": "9005d029-2846-479f-b02d-748bc6a9b6d7",
   "metadata": {},
   "outputs": [],
   "source": [
    "# Download a sample dataset and set the working directory to the location of these data\n",
    "wbe.working_directory = download_sample_data('Grand_Junction')\n",
    "print(f'Data have been stored in: {wbe.working_directory}')"
   ]
  },
  {
   "cell_type": "markdown",
   "id": "ca30e7c9-4189-4ab9-9429-ee43a9213ce3",
   "metadata": {},
   "source": [
    "Now let's read in the DEM file and generate a multidirectional hillshade image for visualization. When the script below is complete, open the DEM and the newly created hillshade image in QGIS to familiarize yourself with the data set."
   ]
  },
  {
   "cell_type": "code",
   "execution_count": null,
   "id": "08a11b29-428b-42a1-87b5-f08ff2303f49",
   "metadata": {
    "scrolled": true
   },
   "outputs": [],
   "source": [
    "# Read in the DEM file.\n",
    "dem = wbe.read_raster('DEM.tif') # This DEM file is contained in the downloaded data folder.\n",
    "\n",
    "# There are some NoData holes in the DEM that we should fill in.\n",
    "# Notice that we can overwrite the 'dem' object\n",
    "dem = wbe.fill_missing_data(dem, filter_size=35, exclude_edge_nodata=True)\n",
    "\n",
    "# create a hillshade image for visualization.\n",
    "hs = wbe.multidirectional_hillshade(dem, full_360_mode=True)\n",
    "wbe.write_raster(hs, 'hillshade.tif', compress=True)"
   ]
  },
  {
   "cell_type": "markdown",
   "id": "ff853461-241a-44e9-a91f-fe4f77b0c417",
   "metadata": {},
   "source": [
    "What are the characteristics of this DEM raster?"
   ]
  },
  {
   "cell_type": "code",
   "execution_count": null,
   "id": "1f794ad4-d43f-4ae2-b9ba-1400a8c04329",
   "metadata": {
    "scrolled": true
   },
   "outputs": [],
   "source": [
    "print(f\"Rows: {dem.configs.rows}\")\n",
    "print(f\"Columns: {dem.configs.columns}\")\n",
    "print(f\"Resolution (x direction): {dem.configs.resolution_x}\")\n",
    "print(f\"Resolution (y direction): {dem.configs.resolution_y}\")\n",
    "print(f\"NoData value: {dem.configs.nodata}\")\n",
    "dem.update_min_max() # Find the raster min/max values\n",
    "print(f\"Min. value: {dem.configs.minimum}\")\n",
    "print(f\"Max. value: {dem.configs.maximum}\")\n",
    "print(f\"Data type: {dem.configs.data_type}\")\n",
    "print(f\"Projection: {dem.configs.projection}\")"
   ]
  },
  {
   "cell_type": "markdown",
   "id": "98c1cd76-ea6c-438f-9d34-7ec2aafb158f",
   "metadata": {},
   "source": [
    "## Extracting land-surface parameters (LSPs)"
   ]
  },
  {
   "cell_type": "markdown",
   "id": "1b2e44dc-56ac-405b-971e-69cf47add156",
   "metadata": {},
   "source": [
    "Now let's extract some common land-surface parameters (LSPs), the basic building blocks of a geomorphometric analysis."
   ]
  },
  {
   "cell_type": "code",
   "execution_count": null,
   "id": "80e06ee5-6767-4f91-a77c-5720817b8e40",
   "metadata": {
    "scrolled": true
   },
   "outputs": [],
   "source": [
    "# Slope and aspect are two of the most common LSPs. Notice that we're combining the writing of the\n",
    "# output raster and the running of the function in one line. We won't reuse the raster objects\n",
    "# created by each function and are only saving them to file and so this makes sense.\n",
    "wbe.write_raster(wbe.slope(dem, units=\"degrees\"), 'slope.tif', compress=True)\n",
    "wbe.write_raster(wbe.aspect(dem), 'aspect.tif', compress=True)\n",
    "\n",
    "# Surface curvatures describe surface shape\n",
    "wbe.write_raster(wbe.profile_curvature(dem, log_transform=True), 'prof_curv.tif', compress=True)\n",
    "wbe.write_raster(wbe.tangential_curvature(dem, log_transform=True), 'tan_curv.tif', compress=True)\n",
    "wbe.write_raster(wbe.plan_curvature(dem, log_transform=True), 'plan_curv.tif', compress=True)\n",
    "wbe.write_raster(wbe.minimal_curvature(dem, log_transform=True), 'min_curv.tif', compress=True)\n",
    "wbe.write_raster(wbe.maximal_curvature(dem, log_transform=True), 'max_curv.tif', compress=True)\n",
    "wbe.write_raster(wbe.mean_curvature(dem, log_transform=True), 'mean_curv.tif', compress=True)\n",
    "wbe.write_raster(wbe.gaussian_curvature(dem, log_transform=True), 'gauss_curv.tif', compress=True)\n",
    "wbe.write_raster(wbe.total_curvature(dem, log_transform=True), 'total_curv.tif', compress=True)"
   ]
  },
  {
   "cell_type": "markdown",
   "id": "307fac76-5290-4afa-af14-fd608790a6a8",
   "metadata": {},
   "source": [
    "The following advanced curvatures are found in WbW-Pro. To run the script below, you'll **need a valid WbW-Pro license**, otherwise you will receive an error."
   ]
  },
  {
   "cell_type": "code",
   "execution_count": null,
   "id": "5127e2e8-cd67-4a56-92e3-c51d7cc415a6",
   "metadata": {
    "scrolled": true
   },
   "outputs": [],
   "source": [
    "wbe.write_raster(wbe.accumulation_curvature(dem, log_transform=True), 'accum_curv.tif', compress=True)\n",
    "wbe.write_raster(wbe.curvedness(dem, log_transform=True), 'curvedness.tif', compress=True)\n",
    "wbe.write_raster(wbe.difference_curvature(dem, log_transform=True), 'diff_curv.tif', compress=True)\n",
    "wbe.write_raster(wbe.generating_function(dem, log_transform=True), 'generating_function.tif', compress=True)\n",
    "wbe.write_raster(wbe.horizontal_excess_curvature(dem, log_transform=True), 'horizontal_excess_curv.tif', compress=True)\n",
    "wbe.write_raster(wbe.ring_curvature(dem, log_transform=True), 'ring_curv.tif', compress=True)\n",
    "wbe.write_raster(wbe.rotor(dem, log_transform=True), 'rotor.tif', compress=True)\n",
    "wbe.write_raster(wbe.shape_index(dem), 'shape_index.tif', compress=True)\n",
    "wbe.write_raster(wbe.unsphericity(dem, log_transform=True), 'unsphericity.tif', compress=True)\n",
    "wbe.write_raster(wbe.vertical_excess_curvature(dem, log_transform=True), 'vertical_excess_curv.tif', compress=True)"
   ]
  },
  {
   "cell_type": "markdown",
   "id": "52ee0fd5-e8b9-4255-af4c-f1a70cd1c0f5",
   "metadata": {},
   "source": [
    "The following LSPs can be used to characterize surface roughness and complexity."
   ]
  },
  {
   "cell_type": "code",
   "execution_count": null,
   "id": "33175138-3a82-4770-8e78-165e0995b197",
   "metadata": {
    "scrolled": true
   },
   "outputs": [],
   "source": [
    "wbe.write_raster(wbe.circular_variance_of_aspect(dem, filter_size = 21), 'circular_variance_of_aspect.tif', compress=True)\n",
    "wbe.write_raster(wbe.edge_density(dem, filter_size=21, normal_diff_threshold=5.0), 'edge_density.tif', compress=True)\n",
    "wbe.write_raster(wbe.spherical_std_dev_of_normals(dem, filter_size = 21), 'spherical_sd_norms.tif', compress=True)\n",
    "wbe.write_raster(wbe.standard_deviation_of_slope(dem, filter_size = 21), 'stdev_slope.tif', compress=True)\n",
    "wbe.write_raster(wbe.surface_area_ratio(dem), 'surface_area_ratio.tif', compress=True)\n",
    "wbe.write_raster(wbe.ruggedness_index(dem), 'ruggedness_index.tif', compress=True)"
   ]
  },
  {
   "cell_type": "markdown",
   "id": "5e9f85f9-4eb8-421a-99c6-cd30378325d1",
   "metadata": {},
   "source": [
    "Most of the measures of surface roughness and complexity above are measured for local neighbourhoods of a specified size (`filter_size = 21`). You may modify the `filter_size` parameter to see the impact of changing the scale of analysis on the output spatial distributions. Note that the grid resolution of the DEM is 5 m. Later we'll explore an alternative method for evaluating the multiscale nature of LSPs.\n",
    "\n",
    "Measures of local topographic position measure how elevated or low-lying a site is relative to it's neighbouring landscape."
   ]
  },
  {
   "cell_type": "code",
   "execution_count": null,
   "id": "43ee3ae0-a545-45ed-994c-f4b08d397052",
   "metadata": {
    "scrolled": true
   },
   "outputs": [],
   "source": [
    "wbe.write_raster(wbe.deviation_from_mean_elevation(dem, filter_size_x=21, filter_size_y=21), 'dev.tif', compress=True)\n",
    "wbe.write_raster(wbe.difference_from_mean_elevation(dem, filter_size_x=21, filter_size_y=21), 'diff.tif', compress=True)\n",
    "wbe.write_raster(wbe.elevation_percentile(dem, filter_size_x=21, filter_size_y=21), 'ep.tif', compress=True)\n",
    "wbe.write_raster(wbe.percent_elev_range(dem, filter_size_x=21, filter_size_y=21), 'percent_elev_range.tif', compress=True)"
   ]
  },
  {
   "cell_type": "markdown",
   "id": "d34ebace-234a-4733-9c96-7c24a5ff31cc",
   "metadata": {},
   "source": [
    "It can be insightful to evaluate the relations between slope and aspect and slope and elevation, as well as to perform a hypsometric analysis (i.e. area-elevation relation)."
   ]
  },
  {
   "cell_type": "code",
   "execution_count": null,
   "id": "619ae81a-2fac-4d83-bab0-906743e14beb",
   "metadata": {
    "scrolled": true
   },
   "outputs": [],
   "source": [
    "wbe.slope_vs_aspect_plot(dem, output_html_file='slope_v_aspect.html', aspect_bin_size=2.0, min_slope=0.1)\n",
    "wbe.slope_vs_elev_plot(dem_rasters=[dem], output_html_file='slope_v_z.html')\n",
    "wbe.hypsometric_analysis(dem_rasters=[dem], output_html_file='hypsomeric_analysis.html')"
   ]
  },
  {
   "cell_type": "markdown",
   "id": "294db895-b7d0-409c-9c33-0af01783e80e",
   "metadata": {},
   "source": [
    "Geomorphons land classes can be useful for interpreting landscape structure. The geomorphons classes are as follows:\n",
    "\n",
    "Value | Landform Type\n",
    "-|-\n",
    "1 | Flat\n",
    "2 | Peak (summit)\n",
    "3 | Ridge\n",
    "4 | Shoulder\n",
    "5 | Spur (convex)\n",
    "6 | Slope\n",
    "7 | Hollow (concave)\n",
    "8 | Footslope\n",
    "9 | Valley\n",
    "10 | Pit (depression)"
   ]
  },
  {
   "cell_type": "code",
   "execution_count": null,
   "id": "a9ea20cc-0f98-4903-8ccf-baf719e1fc09",
   "metadata": {
    "scrolled": true
   },
   "outputs": [],
   "source": [
    "wbe.write_raster(\n",
    "    wbe.geomorphons(\n",
    "        dem, \n",
    "        search_distance=100, \n",
    "        flatness_threshold=0.0, \n",
    "        flatness_distance=0, \n",
    "        skip_distance=0, \n",
    "        output_forms=True, \n",
    "        analyze_residuals=False\n",
    "    ),\n",
    "    'geomorphons.tif',\n",
    "    compress=True\n",
    ")"
   ]
  },
  {
   "cell_type": "markdown",
   "id": "b984334c-e189-4896-b506-b679e00478bd",
   "metadata": {},
   "source": [
    "## Multiscale geomorphometric analysis"
   ]
  },
  {
   "cell_type": "markdown",
   "id": "ba5206be-76ce-438d-8113-1b53ce1e66a1",
   "metadata": {},
   "source": [
    "Many of the LSPs calculated above are scale dependent and require us to specify a measurement scale, usually in the form of a `filter_size` parameter. This parameter allows us to calculate these parameters at a single, uniform spatial scale. For many LSPs, Whitebox also allows us to calculate *scale mosiacs*. An LSP scale mosaic are calculated by estimating the normalized value of the LSP across a range of spatial scales, known as a scale space or stack, and then to identify the scale at which each grid cell is most expressive. This is known as the characteristic scale or key scale and it can be different for different locations. An LSP scale mosaic therefore represents the value of that LSP at the key scale of each individual grid cell. In comparison to the uniform scale approach, scale mosaics provide locally scale optimized representations of the LSP being measured. \n",
    "\n",
    "Let's begin by downloading a sample DEM for an area near Peterborough Ontario, Canada, that contains numerous drumlin. Drumlins are streamlined hills formed by glaciation. Open the DEM (`peterborough_drumlins.tif`) and our newly created hillshade image in QGIS once the following script has completed to visualize the landscape."
   ]
  },
  {
   "cell_type": "code",
   "execution_count": null,
   "id": "dde3520a-4bd1-40d1-b67c-d2dc66dd748c",
   "metadata": {},
   "outputs": [],
   "source": [
    "wbe.working_directory = whitebox_workflows.download_sample_data('peterborough_drumlins')\n",
    "print(f'Data have been stored in: {wbe.working_directory}')\n",
    "\n",
    "# Read in the DEM file and create a hillshade image for visualization.\n",
    "dem = wbe.read_raster('peterborough_drumlins.tif')\n",
    "hs = wbe.multidirectional_hillshade(dem, full_360_mode=True)\n",
    "wbe.write_raster(hs, 'hillshade.tif', compress=True)"
   ]
  },
  {
   "cell_type": "markdown",
   "id": "5a34e0ca-c8ac-45c3-9392-5991936b6e0a",
   "metadata": {},
   "source": [
    "Now let's create scale mosaics of deviation from mean elevation (DEV), a measure of relative topographic position, at three broadly defined scale ranges, including local, intermediate (meso), and broad scale ranges."
   ]
  },
  {
   "cell_type": "code",
   "execution_count": null,
   "id": "f502ac7c-0213-4a68-b608-204c50abb07e",
   "metadata": {},
   "outputs": [],
   "source": [
    "# Let's turn off the verbose mode because these tools are pretty chatty\n",
    "wbe.verbose = False\n",
    "\n",
    "print('Calculating the local scale range...')\n",
    "dev_local, key_scales = wbe.max_elevation_deviation(dem, min_scale=1, max_scale=25, step_size=1)\n",
    "wbe.write_raster(dev_local, 'dev_multiscale_local.tif')\n",
    "wbe.write_raster(key_scales, 'key_scales_local.tif')\n",
    "\n",
    "print('Calculating the intermediate scale range...')\n",
    "dev_meso, key_scales = wbe.max_elevation_deviation(dem, min_scale=30, max_scale=100, step_size=1)\n",
    "wbe.write_raster(dev_meso, 'dev_multiscale_meso.tif')\n",
    "wbe.write_raster(key_scales, 'key_scales_meso.tif')\n",
    "\n",
    "print('Calculating the broad scale range...')\n",
    "dev_broad, key_scales = wbe.max_elevation_deviation(dem, min_scale=500, max_scale=1000, step_size=10)\n",
    "wbe.write_raster(dev_broad, 'dev_multiscale_broad.tif')\n",
    "wbe.write_raster(key_scales, 'key_scales_broad.tif')\n",
    "\n",
    "print('Calculating the multiscale topographic position image...')\n",
    "mstp = wbe.multiscale_topographic_position_image(dev_local, dev_meso, dev_broad)\n",
    "wbe.write_raster(mstp, 'mstp.tif')\n",
    "\n",
    "print('Calculating the full scale range...')\n",
    "dev_broad, key_scales = wbe.max_elevation_deviation(dem, min_scale=1, max_scale=1000, step_size=2)\n",
    "wbe.write_raster(dev_broad, 'dev_multiscale_full.tif')\n",
    "wbe.write_raster(key_scales, 'key_scales_full.tif')\n",
    "\n",
    "wbe.verbose = True"
   ]
  },
  {
   "cell_type": "markdown",
   "id": "417ff8d1-738b-4291-a305-817efdb4d3cb",
   "metadata": {},
   "source": [
    "The multiscale topographic position (MSTP) image is really only meant for visualization purposes, but can be very effective for interpreting landscapes. In effect, with a MSTP image, you are using colour to represent spatial scales. Pixels that are blue are most deviated (either elevated or low-lying) at the local scale, green pixels are most deviated at the intermediate scale, and redish pixels are most deviated at the broadest tested scale range. Of course, you can also have combinations therein, e.g. a yellow pixel is one that is deviated at the intermediate and broad scales, but not particularly deviated at the local scale.\n",
    "\n",
    "While the MSTP image is useful for visualization and interpretation, ultimately it is the `dev_multiscale` images that are most useful as modelling inputs (predictors). For example, compare the density of information about landforms contained within the `dev_multiscale_full.tif` to that of the uniform scale `dev.tif` generated above. Notice how much more information is contain within this DEV scale mosaic.\n",
    "\n",
    "Whitebox contains functions for calculating other multiscale LSPs as well, including `multiscale_elevation_percentile`, `multiscale_roughness`, `multiscale_std_dev_normals`, `max_anisotropy_dev`, `gaussian_scale_space`, and `multiscale_curvatures`. Below we use the `multiscale_curvatures` function (requires a WbW-Pro license) to estimate a multiscale version of mean curvature. Compare this output with that of the `mean_curv.tif` raster generated previously.\n",
    "\n",
    "Also notice that in addition to the scale mosaic, each of the multiscale LSP functions also output a second raster for the key scales (i.e. the characteristic scale at which the 'optimal' LSP value is calculated). You may wish to display some of our generated key scale rasters and explore the information contained within these ancillary rasters."
   ]
  },
  {
   "cell_type": "code",
   "execution_count": null,
   "id": "1abea840-cb42-4f9b-97a2-c27fda845409",
   "metadata": {
    "scrolled": true
   },
   "outputs": [],
   "source": [
    "curv_mosaic, key_scales = wbe.multiscale_curvatures(\n",
    "    dem, \n",
    "    curv_type = 'MeanCurvature', \n",
    "    min_scale = 5, \n",
    "    step_size = 1, \n",
    "    num_steps = 10, \n",
    "    step_nonlinearity = 1.0,\n",
    "    log_transform = True\n",
    "  )\n",
    "wbe.write_raster(curv_mosaic, 'ms_mean_curv.tif')\n",
    "wbe.write_raster(key_scales, 'ms_mean_curv_key_scales.tif')"
   ]
  },
  {
   "cell_type": "markdown",
   "id": "007fc013-63c0-4e09-bcb1-299f30987897",
   "metadata": {},
   "source": [
    "## Wrapping things up"
   ]
  },
  {
   "cell_type": "markdown",
   "id": "4e5bcb7e-403f-4adf-9b72-31337dac78a5",
   "metadata": {},
   "source": [
    "Don't forget to check your license in after you're done using it. If you skip this step, your checked-out license won't be returned to the license pool for others to use for one hour. Be kind to others!"
   ]
  },
  {
   "cell_type": "code",
   "execution_count": null,
   "id": "04ef75f1-b4d4-44c6-a3da-3d0c7421b22a",
   "metadata": {},
   "outputs": [],
   "source": [
    "print(wbe.check_in_license(license_id))"
   ]
  },
  {
   "cell_type": "code",
   "execution_count": null,
   "id": "ba7c12fe-bc2e-40fd-a459-53d8350fe05a",
   "metadata": {},
   "outputs": [],
   "source": []
  }
 ],
 "metadata": {
  "kernelspec": {
   "display_name": "Python 3 (ipykernel)",
   "language": "python",
   "name": "python3"
  },
  "language_info": {
   "codemirror_mode": {
    "name": "ipython",
    "version": 3
   },
   "file_extension": ".py",
   "mimetype": "text/x-python",
   "name": "python",
   "nbconvert_exporter": "python",
   "pygments_lexer": "ipython3",
   "version": "3.11.0"
  }
 },
 "nbformat": 4,
 "nbformat_minor": 5
}
